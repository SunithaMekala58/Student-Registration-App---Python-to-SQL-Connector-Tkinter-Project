{
 "cells": [
  {
   "cell_type": "markdown",
   "id": "e9348859-2fee-4d57-9797-bab412a00bd5",
   "metadata": {},
   "source": [
    "## Greeting App using Tkinter\n",
    "#### Tkinter is a GUI based application\n",
    "#### Without using any backend code, the tkinter library itself creates a GUI interface for us.\n",
    "#### tkinter package is imported from TK interface\n"
   ]
  },
  {
   "cell_type": "code",
   "execution_count": null,
   "id": "068f0358-2157-4a2d-9b29-928ce59dae3d",
   "metadata": {},
   "outputs": [],
   "source": [
    "import tkinter as tk\n",
    "from tkinter import messagebox\n",
    "\n",
    "#Create the main application window\n",
    "root = tk.Tk()\n",
    "root.title(\"Greeting App\")\n",
    "root.geometry(\"300x200\") #Set the size of the window\n",
    "\n",
    "#Function to display the greeting\n",
    "def greet():\n",
    "    name = name_entry.get()\n",
    "    if name:\n",
    "        messagebox.showinfo(\"Greeting\", f\"Hello, {name}!\")\n",
    "    else:\n",
    "        messagebox.showwarning(\"Input Error\",\"Please enter your name.\")\n",
    "\n",
    "#Create a label\n",
    "name_label = tk.Label(root, text = \"Enter your name:\")\n",
    "name_label.pack(pady=10) #Padding around the widget\n",
    "\n",
    "#Create an entry box for user input\n",
    "name_entry = tk.Entry(root)\n",
    "name_entry.pack(pady = 10)\n",
    "\n",
    "#Create a button that triggers the greet function\n",
    "greet_button = tk.Button(root, text=\"Greet\", command = greet)\n",
    "greet_button.pack(pady = 10)\n",
    "\n",
    "#Start the Tkinter event loop\n",
    "root.mainloop()"
   ]
  },
  {
   "cell_type": "code",
   "execution_count": null,
   "id": "3704b56a-b03d-42e5-b630-6a83cb8a3cdc",
   "metadata": {},
   "outputs": [],
   "source": []
  }
 ],
 "metadata": {
  "kernelspec": {
   "display_name": "Python 3 (ipykernel)",
   "language": "python",
   "name": "python3"
  },
  "language_info": {
   "codemirror_mode": {
    "name": "ipython",
    "version": 3
   },
   "file_extension": ".py",
   "mimetype": "text/x-python",
   "name": "python",
   "nbconvert_exporter": "python",
   "pygments_lexer": "ipython3",
   "version": "3.12.4"
  }
 },
 "nbformat": 4,
 "nbformat_minor": 5
}
