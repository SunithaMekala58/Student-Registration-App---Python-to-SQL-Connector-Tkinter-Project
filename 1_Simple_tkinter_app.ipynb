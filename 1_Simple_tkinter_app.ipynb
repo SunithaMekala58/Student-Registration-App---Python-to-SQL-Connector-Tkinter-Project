{
 "cells": [
  {
   "cell_type": "markdown",
   "id": "cbf7967f-fc78-47e0-8873-014462affce7",
   "metadata": {},
   "source": [
    "# tkinter is a GUI based application\n",
    "#### Without using any backend code, the tkinter library itself creates a GUI interface for us.\n",
    "#### tkinter package is imported from TK interface"
   ]
  },
  {
   "cell_type": "code",
   "execution_count": 1,
   "id": "3d67d3aa-11db-4717-aa0a-ed9dac6aaf30",
   "metadata": {},
   "outputs": [
    {
     "name": "stdout",
     "output_type": "stream",
     "text": [
      "Hello World!\n"
     ]
    }
   ],
   "source": [
    "import tkinter as tk\n",
    "\n",
    "# Create the main application windoow\n",
    "root = tk.Tk()\n",
    "root.title(\"Simple Tkinter App\")\n",
    "root.geometry(\"200x100\") # Set window size\n",
    "\n",
    "# Function to print \"Hello, World!\" in the console\n",
    "def say_hello():\n",
    "    print(\"Hello World!\")\n",
    "    \n",
    "#Create a button that triggers the say_hello function\n",
    "hello_button = tk.Button(root, text = \"Click Me\", command = say_hello)\n",
    "hello_button.pack(pady =20) # Pack the button into the window\n",
    "\n",
    "# Start the Tkinter event loop\n",
    "root.mainloop()"
   ]
  },
  {
   "cell_type": "code",
   "execution_count": null,
   "id": "9d2f9ae7-5d62-47bd-b551-8624078ae7f6",
   "metadata": {},
   "outputs": [],
   "source": []
  }
 ],
 "metadata": {
  "kernelspec": {
   "display_name": "Python 3",
   "language": "python",
   "name": "python3"
  },
  "language_info": {
   "codemirror_mode": {
    "name": "ipython",
    "version": 3
   },
   "file_extension": ".py",
   "mimetype": "text/x-python",
   "name": "python",
   "nbconvert_exporter": "python",
   "pygments_lexer": "ipython3",
   "version": "3.13.0"
  }
 },
 "nbformat": 4,
 "nbformat_minor": 5
}
