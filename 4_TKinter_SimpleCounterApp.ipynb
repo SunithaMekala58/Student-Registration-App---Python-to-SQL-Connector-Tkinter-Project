{
 "cells": [
  {
   "cell_type": "markdown",
   "id": "bec55dc2-87dd-4c4d-b602-1e4024bd7c99",
   "metadata": {},
   "source": [
    "## Creating a Counter App by using frontend as Tkinter and Backend Python\n",
    "## tkinter is a GUI based application\n",
    "#### Without using any backend code, the tkinter library itself creates a GUI interface for us.\n",
    "#### tkinter package is imported from TK interface"
   ]
  },
  {
   "cell_type": "code",
   "execution_count": 2,
   "id": "6e88c6a8-8faf-4c70-b8c0-18159ee603f1",
   "metadata": {},
   "outputs": [],
   "source": [
    "import tkinter as tk\n",
    "\n",
    "#Create the main application window\n",
    "root = tk.Tk()\n",
    "root.title(\"Simple Counter App\")\n",
    "root.geometry(\"300x200\") # Set the size of the window\n",
    "\n",
    "#Initialize the counter variable\n",
    "counter = 0\n",
    "\n",
    "#Function to update the counter label\n",
    "def update_label():\n",
    "    count_label.config(text=f\"Count: {counter}\")\n",
    "\n",
    "# Function to increment the counter\n",
    "def increment():\n",
    "    global counter\n",
    "    counter += 1\n",
    "    update_label()\n",
    "\n",
    "# Function to decrement the counter\n",
    "def decrement():\n",
    "    global counter\n",
    "    counter -= 1\n",
    "    update_label()\n",
    "\n",
    "# Create a label to display the counter\n",
    "count_label = tk.Label(root, text=f\"Count: {counter}\", font=(\"Helvetica\", 16))\n",
    "count_label.pack(pady=20)\n",
    "\n",
    "#Create a frame to hold the buttons\n",
    "button_frame = tk.Frame(root)\n",
    "button_frame.pack(pady = 10)\n",
    "\n",
    "#Create the Increment button\n",
    "increment_button = tk.Button(button_frame, text=\"Increment\", command=increment, width=10)\n",
    "increment_button.pack(side=tk.LEFT, padx=5)\n",
    "\n",
    "# Create the Decrement button\n",
    "decrement_button = tk.Button(button_frame, text=\"Decrement\", command=decrement, width=10)\n",
    "decrement_button.pack(side=tk.LEFT, padx=5)\n",
    "\n",
    "# Start the Tkinter event loop\n",
    "root.mainloop()"
   ]
  },
  {
   "cell_type": "code",
   "execution_count": null,
   "id": "1bdf62ab-7419-40fa-9283-60f1eaa7dc7e",
   "metadata": {},
   "outputs": [],
   "source": []
  }
 ],
 "metadata": {
  "kernelspec": {
   "display_name": "Python 3 (ipykernel)",
   "language": "python",
   "name": "python3"
  },
  "language_info": {
   "codemirror_mode": {
    "name": "ipython",
    "version": 3
   },
   "file_extension": ".py",
   "mimetype": "text/x-python",
   "name": "python",
   "nbconvert_exporter": "python",
   "pygments_lexer": "ipython3",
   "version": "3.12.4"
  }
 },
 "nbformat": 4,
 "nbformat_minor": 5
}
