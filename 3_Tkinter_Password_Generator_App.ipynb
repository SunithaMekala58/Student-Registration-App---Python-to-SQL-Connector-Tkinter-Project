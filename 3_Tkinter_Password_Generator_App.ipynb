{
 "cells": [
  {
   "cell_type": "markdown",
   "id": "fad02a8b-bd1a-4086-92f5-b9badd73f171",
   "metadata": {},
   "source": [
    "## Password Generating App using Tkinter\n",
    "#### Tkinter is a GUI based application\n",
    "#### Without using any backend code, the tkinter library itself creates a GUI interface for us.\n",
    "#### tkinter package is imported from TK interface\n",
    "#### Password Generating App, generates the random password with combination of uppercase, lowercase, digits, punctuations"
   ]
  },
  {
   "cell_type": "code",
   "execution_count": 8,
   "id": "5f860d01-0904-490c-aada-43927f18ed7a",
   "metadata": {},
   "outputs": [],
   "source": [
    "from tkinter import *\n",
    "import random, string\n",
    "import pyperclip\n",
    "\n",
    "root = Tk()\n",
    "root.geometry(\"400x400\")\n",
    "root.resizable(0,0)\n",
    "root.title(\"PYTHON PROJECT - PASSWORD GENERATOR\")\n",
    "\n",
    "Label(root, text = 'PASSWORD GENERATOR', font = 'arial 15 bold').pack()\n",
    "Label(root, text = 'Python', font = 'arial 15 bold').pack(side = BOTTOM)\n",
    "\n",
    "pass_label = Label(root, text = 'PASSWORD LENGTH', font = 'arial 10 bold').pack()\n",
    "pass_len = IntVar()\n",
    "length = Spinbox(root, from_=8, to_=32, textvariable=pass_len, width=15).pack()\n",
    "pass_str = StringVar()\n",
    "\n",
    "def Generator():\n",
    "    password = []\n",
    "\n",
    "    #Ensuring at least one character from each type (Uppercase, Lowercase, Digits, Punctuation)\n",
    "    if pass_len.get() >= 4:\n",
    "        password.append(random.choice(string.ascii_uppercase))\n",
    "        password.append(random.choice(string.ascii_lowercase))\n",
    "        password.append(random.choice(string.digits))\n",
    "        password.append(random.choice(string.punctuation))\n",
    "\n",
    "        # Fill the rest with random choices until the specified length\n",
    "        for _ in range(pass_len.get() - 4):\n",
    "            password.append(random.choice(string.ascii_uppercase + string.ascii_lowercase + string.digits + string.punctuation))\n",
    "        \n",
    "        # Shuffle to ensure randomness\n",
    "        random.shuffle(password)\n",
    "    else:\n",
    "        # If length is less than 4, just fill the required length with random choices\n",
    "        for _ in range(pass_len.get()):\n",
    "            password.append(random.choice(string.ascii_uppercase + string.ascii_lowercase + string.digits + string.punctuation))\n",
    "    \n",
    "    # Convert list to string and set it to the variable\n",
    "    pass_str.set(''.join(password))\n",
    "\n",
    "\n",
    "def Copy_password():\n",
    "    pyperclip.copy(pass_str.get())\n",
    "\n",
    "Button(root, text='GENERATE PASSWORD', command=Generator).pack(pady=5)\n",
    "Entry(root, textvariable=pass_str).pack()\n",
    "Button(root, text='COPY TO CLIPBOARD', command=Copy_password).pack(pady=5)\n",
    "\n",
    "root.mainloop()\n",
    "\n",
    "        "
   ]
  },
  {
   "cell_type": "code",
   "execution_count": null,
   "id": "2b8e7451-bb98-45f7-9b7d-b3809b483ae2",
   "metadata": {},
   "outputs": [],
   "source": []
  },
  {
   "cell_type": "code",
   "execution_count": null,
   "id": "0b754f2c-385e-40f4-9bc7-47f0aad1d270",
   "metadata": {},
   "outputs": [],
   "source": []
  }
 ],
 "metadata": {
  "kernelspec": {
   "display_name": "Python 3 (ipykernel)",
   "language": "python",
   "name": "python3"
  },
  "language_info": {
   "codemirror_mode": {
    "name": "ipython",
    "version": 3
   },
   "file_extension": ".py",
   "mimetype": "text/x-python",
   "name": "python",
   "nbconvert_exporter": "python",
   "pygments_lexer": "ipython3",
   "version": "3.12.4"
  }
 },
 "nbformat": 4,
 "nbformat_minor": 5
}
